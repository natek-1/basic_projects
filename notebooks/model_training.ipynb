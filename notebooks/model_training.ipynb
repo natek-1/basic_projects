{
 "cells": [
  {
   "attachments": {},
   "cell_type": "markdown",
   "metadata": {},
   "source": [
    "# Model Training"
   ]
  },
  {
   "attachments": {},
   "cell_type": "markdown",
   "metadata": {},
   "source": [
    "## 1.1 Import Data and Required Packages"
   ]
  },
  {
   "cell_type": "code",
   "execution_count": 2,
   "metadata": {},
   "outputs": [],
   "source": [
    "import numpy as np\n",
    "import pandas as pd\n",
    "import matplotlib.pyplot as plt\n",
    "import seaborn as sns\n",
    "from sklearn.metrics import mean_squared_error, r2_score\n",
    "from sklearn.neighbors import KNeighborsRegressor\n",
    "from sklearn.tree import DecisionTreeRegressor\n",
    "from sklearn.ensemble import RandomForestRegressor, AdaBoostRegressor\n",
    "from sklearn.svm import SVR\n",
    "from sklearn.linear_model import LinearRegression, Ridge, Lasso\n",
    "#from catboost import CatBoostRegressor\n",
    "from xgboost import XGBRegressor\n",
    "import warnings"
   ]
  },
  {
   "attachments": {},
   "cell_type": "markdown",
   "metadata": {},
   "source": [
    "## Import the CSV Data as Pandas DataFrame"
   ]
  },
  {
   "cell_type": "code",
   "execution_count": 3,
   "metadata": {},
   "outputs": [],
   "source": [
    "df = pd.read_csv(\"./data/StudentsPerformance.csv\")"
   ]
  },
  {
   "cell_type": "code",
   "execution_count": 4,
   "metadata": {},
   "outputs": [
    {
     "name": "stdout",
     "output_type": "stream",
     "text": [
      "Collecting catboost\n",
      "  Using cached catboost-1.2.tar.gz (95.9 MB)\n",
      "  Installing build dependencies ... \u001b[?25ldone\n",
      "\u001b[?25h  Getting requirements to build wheel ... \u001b[?25ldone\n",
      "\u001b[?25h  Preparing metadata (pyproject.toml) ... \u001b[?25ldone\n",
      "\u001b[?25hCollecting graphviz (from catboost)\n",
      "  Using cached graphviz-0.20.1-py3-none-any.whl (47 kB)\n",
      "Requirement already satisfied: matplotlib in /Users/user/Projects/data_analysis/Basic_Project/.venv/lib/python3.10/site-packages (from catboost) (3.7.1)\n",
      "Requirement already satisfied: numpy>=1.16.0 in /Users/user/Projects/data_analysis/Basic_Project/.venv/lib/python3.10/site-packages (from catboost) (1.25.0)\n",
      "Requirement already satisfied: pandas>=0.24 in /Users/user/Projects/data_analysis/Basic_Project/.venv/lib/python3.10/site-packages (from catboost) (2.0.3)\n",
      "Requirement already satisfied: scipy in /Users/user/Projects/data_analysis/Basic_Project/.venv/lib/python3.10/site-packages (from catboost) (1.11.1)\n",
      "Collecting plotly (from catboost)\n",
      "  Using cached plotly-5.15.0-py2.py3-none-any.whl (15.5 MB)\n",
      "Requirement already satisfied: six in /Users/user/Projects/data_analysis/Basic_Project/.venv/lib/python3.10/site-packages (from catboost) (1.16.0)\n",
      "Requirement already satisfied: python-dateutil>=2.8.2 in /Users/user/Projects/data_analysis/Basic_Project/.venv/lib/python3.10/site-packages (from pandas>=0.24->catboost) (2.8.2)\n",
      "Requirement already satisfied: pytz>=2020.1 in /Users/user/Projects/data_analysis/Basic_Project/.venv/lib/python3.10/site-packages (from pandas>=0.24->catboost) (2023.3)\n",
      "Requirement already satisfied: tzdata>=2022.1 in /Users/user/Projects/data_analysis/Basic_Project/.venv/lib/python3.10/site-packages (from pandas>=0.24->catboost) (2023.3)\n",
      "Requirement already satisfied: contourpy>=1.0.1 in /Users/user/Projects/data_analysis/Basic_Project/.venv/lib/python3.10/site-packages (from matplotlib->catboost) (1.1.0)\n",
      "Requirement already satisfied: cycler>=0.10 in /Users/user/Projects/data_analysis/Basic_Project/.venv/lib/python3.10/site-packages (from matplotlib->catboost) (0.11.0)\n",
      "Requirement already satisfied: fonttools>=4.22.0 in /Users/user/Projects/data_analysis/Basic_Project/.venv/lib/python3.10/site-packages (from matplotlib->catboost) (4.40.0)\n",
      "Requirement already satisfied: kiwisolver>=1.0.1 in /Users/user/Projects/data_analysis/Basic_Project/.venv/lib/python3.10/site-packages (from matplotlib->catboost) (1.4.4)\n",
      "Requirement already satisfied: packaging>=20.0 in /Users/user/Projects/data_analysis/Basic_Project/.venv/lib/python3.10/site-packages (from matplotlib->catboost) (23.1)\n",
      "Requirement already satisfied: pillow>=6.2.0 in /Users/user/Projects/data_analysis/Basic_Project/.venv/lib/python3.10/site-packages (from matplotlib->catboost) (10.0.0)\n",
      "Requirement already satisfied: pyparsing>=2.3.1 in /Users/user/Projects/data_analysis/Basic_Project/.venv/lib/python3.10/site-packages (from matplotlib->catboost) (3.1.0)\n",
      "Collecting tenacity>=6.2.0 (from plotly->catboost)\n",
      "  Using cached tenacity-8.2.2-py3-none-any.whl (24 kB)\n",
      "Building wheels for collected packages: catboost\n",
      "  Building wheel for catboost (pyproject.toml) ... \u001b[?25lerror\n",
      "  \u001b[1;31merror\u001b[0m: \u001b[1msubprocess-exited-with-error\u001b[0m\n",
      "  \n",
      "  \u001b[31m×\u001b[0m \u001b[32mBuilding wheel for catboost \u001b[0m\u001b[1;32m(\u001b[0m\u001b[32mpyproject.toml\u001b[0m\u001b[1;32m)\u001b[0m did not run successfully.\n",
      "  \u001b[31m│\u001b[0m exit code: \u001b[1;36m1\u001b[0m\n",
      "  \u001b[31m╰─>\u001b[0m \u001b[31m[39 lines of output]\u001b[0m\n",
      "  \u001b[31m   \u001b[0m running bdist_wheel\n",
      "  \u001b[31m   \u001b[0m running build\n",
      "  \u001b[31m   \u001b[0m running build_py\n",
      "  \u001b[31m   \u001b[0m creating build\n",
      "  \u001b[31m   \u001b[0m creating build/lib.macosx-10.9-x86_64-cpython-310\n",
      "  \u001b[31m   \u001b[0m creating build/lib.macosx-10.9-x86_64-cpython-310/catboost\n",
      "  \u001b[31m   \u001b[0m copying catboost/monoforest.py -> build/lib.macosx-10.9-x86_64-cpython-310/catboost\n",
      "  \u001b[31m   \u001b[0m copying catboost/plot_helpers.py -> build/lib.macosx-10.9-x86_64-cpython-310/catboost\n",
      "  \u001b[31m   \u001b[0m copying catboost/metrics.py -> build/lib.macosx-10.9-x86_64-cpython-310/catboost\n",
      "  \u001b[31m   \u001b[0m copying catboost/version.py -> build/lib.macosx-10.9-x86_64-cpython-310/catboost\n",
      "  \u001b[31m   \u001b[0m copying catboost/text_processing.py -> build/lib.macosx-10.9-x86_64-cpython-310/catboost\n",
      "  \u001b[31m   \u001b[0m copying catboost/datasets.py -> build/lib.macosx-10.9-x86_64-cpython-310/catboost\n",
      "  \u001b[31m   \u001b[0m copying catboost/__init__.py -> build/lib.macosx-10.9-x86_64-cpython-310/catboost\n",
      "  \u001b[31m   \u001b[0m copying catboost/core.py -> build/lib.macosx-10.9-x86_64-cpython-310/catboost\n",
      "  \u001b[31m   \u001b[0m copying catboost/utils.py -> build/lib.macosx-10.9-x86_64-cpython-310/catboost\n",
      "  \u001b[31m   \u001b[0m copying catboost/dev_utils.py -> build/lib.macosx-10.9-x86_64-cpython-310/catboost\n",
      "  \u001b[31m   \u001b[0m creating build/lib.macosx-10.9-x86_64-cpython-310/catboost/widget\n",
      "  \u001b[31m   \u001b[0m copying catboost/widget/__init__.py -> build/lib.macosx-10.9-x86_64-cpython-310/catboost/widget\n",
      "  \u001b[31m   \u001b[0m copying catboost/widget/metrics_plotter.py -> build/lib.macosx-10.9-x86_64-cpython-310/catboost/widget\n",
      "  \u001b[31m   \u001b[0m copying catboost/widget/ipythonwidget.py -> build/lib.macosx-10.9-x86_64-cpython-310/catboost/widget\n",
      "  \u001b[31m   \u001b[0m copying catboost/widget/callbacks.py -> build/lib.macosx-10.9-x86_64-cpython-310/catboost/widget\n",
      "  \u001b[31m   \u001b[0m creating build/lib.macosx-10.9-x86_64-cpython-310/catboost/eval\n",
      "  \u001b[31m   \u001b[0m copying catboost/eval/catboost_evaluation.py -> build/lib.macosx-10.9-x86_64-cpython-310/catboost/eval\n",
      "  \u001b[31m   \u001b[0m copying catboost/eval/_fold_model.py -> build/lib.macosx-10.9-x86_64-cpython-310/catboost/eval\n",
      "  \u001b[31m   \u001b[0m copying catboost/eval/_readers.py -> build/lib.macosx-10.9-x86_64-cpython-310/catboost/eval\n",
      "  \u001b[31m   \u001b[0m copying catboost/eval/log_config.py -> build/lib.macosx-10.9-x86_64-cpython-310/catboost/eval\n",
      "  \u001b[31m   \u001b[0m copying catboost/eval/_splitter.py -> build/lib.macosx-10.9-x86_64-cpython-310/catboost/eval\n",
      "  \u001b[31m   \u001b[0m copying catboost/eval/__init__.py -> build/lib.macosx-10.9-x86_64-cpython-310/catboost/eval\n",
      "  \u001b[31m   \u001b[0m copying catboost/eval/execution_case.py -> build/lib.macosx-10.9-x86_64-cpython-310/catboost/eval\n",
      "  \u001b[31m   \u001b[0m copying catboost/eval/_fold_storage.py -> build/lib.macosx-10.9-x86_64-cpython-310/catboost/eval\n",
      "  \u001b[31m   \u001b[0m copying catboost/eval/factor_utils.py -> build/lib.macosx-10.9-x86_64-cpython-310/catboost/eval\n",
      "  \u001b[31m   \u001b[0m copying catboost/eval/utils.py -> build/lib.macosx-10.9-x86_64-cpython-310/catboost/eval\n",
      "  \u001b[31m   \u001b[0m copying catboost/eval/evaluation_result.py -> build/lib.macosx-10.9-x86_64-cpython-310/catboost/eval\n",
      "  \u001b[31m   \u001b[0m copying catboost/eval/_fold_models_handler.py -> build/lib.macosx-10.9-x86_64-cpython-310/catboost/eval\n",
      "  \u001b[31m   \u001b[0m running build_ext\n",
      "  \u001b[31m   \u001b[0m Buildling _catboost with cmake and ninja\n",
      "  \u001b[31m   \u001b[0m target_platform=darwin-x86_64. Building targets _catboost with PIC\n",
      "  \u001b[31m   \u001b[0m Running \"cmake /private/var/folders/7n/s9r2nbnn4vl1h14sd700043m0000gn/T/pip-install-v1ohx_lu/catboost_a6c77fa7d25447f6bbfa68772aa6a340/catboost_all_src -B /private/var/folders/7n/s9r2nbnn4vl1h14sd700043m0000gn/T/pip-install-v1ohx_lu/catboost_a6c77fa7d25447f6bbfa68772aa6a340/build/temp.macosx-10.9-x86_64-cpython-310 -G Ninja -DCMAKE_BUILD_TYPE=Release -DCMAKE_TOOLCHAIN_FILE=/private/var/folders/7n/s9r2nbnn4vl1h14sd700043m0000gn/T/pip-install-v1ohx_lu/catboost_a6c77fa7d25447f6bbfa68772aa6a340/catboost_all_src/build/toolchains/clang.toolchain --log-level=VERBOSE -DCMAKE_POSITION_INDEPENDENT_CODE=On -DCATBOOST_COMPONENTS=python-package -DCMAKE_OSX_DEPLOYMENT_TARGET=11.0 -DHAVE_CUDA=no -DPython3_ROOT_DIR=/Users/user/Projects/data_analysis/Basic_Project/.venv\"\n",
      "  \u001b[31m   \u001b[0m error: [Errno 2] No such file or directory: 'cmake'\n",
      "  \u001b[31m   \u001b[0m \u001b[31m[end of output]\u001b[0m\n",
      "  \n",
      "  \u001b[1;35mnote\u001b[0m: This error originates from a subprocess, and is likely not a problem with pip.\n",
      "\u001b[?25h\u001b[31m  ERROR: Failed building wheel for catboost\u001b[0m\u001b[31m\n",
      "\u001b[0mFailed to build catboost\n",
      "\u001b[31mERROR: Could not build wheels for catboost, which is required to install pyproject.toml-based projects\u001b[0m\u001b[31m\n",
      "\u001b[0m"
     ]
    }
   ],
   "source": [
    "!pip install catboost"
   ]
  },
  {
   "cell_type": "code",
   "execution_count": null,
   "metadata": {},
   "outputs": [],
   "source": []
  }
 ],
 "metadata": {
  "kernelspec": {
   "display_name": ".venv",
   "language": "python",
   "name": "python3"
  },
  "language_info": {
   "codemirror_mode": {
    "name": "ipython",
    "version": 3
   },
   "file_extension": ".py",
   "mimetype": "text/x-python",
   "name": "python",
   "nbconvert_exporter": "python",
   "pygments_lexer": "ipython3",
   "version": "3.10.0"
  },
  "orig_nbformat": 4
 },
 "nbformat": 4,
 "nbformat_minor": 2
}
